{
 "cells": [
  {
   "cell_type": "markdown",
   "metadata": {},
   "source": [
    "# Exponential smoothing intuition (ETS)\n",
    "### 3 forcasting models \n",
    "- SES N-T, N-S\n",
    "- Holt model T, N-S\n",
    "- Holt-Winter model T,S"
   ]
  },
  {
   "cell_type": "markdown",
   "metadata": {},
   "source": [
    "### ETS Basics\n",
    "- Simple Moving Average (SMA) Algo Trad\n",
    "- Exponentially Weighted Moving Average (EWMA)\n",
    "\n",
    "The SMA is equally weighted, since for a window of size N, each point has\n",
    "a weight 1/N \\\n",
    "The EWMA gives each point a weight that decays exponentially"
   ]
  },
  {
   "cell_type": "markdown",
   "metadata": {},
   "source": [
    "### Simple Exponential Smoothing (SES)\n",
    "- The SES method turns the EWMA into a forecasting model \\\n",
    "- Asumption TS fluctuates around const val in time (if it's periodic in T)\n"
   ]
  },
  {
   "cell_type": "markdown",
   "metadata": {},
   "source": [
    "$ Level(t+h) = EWMA(Time series from 1...t) + (Noise)$ "
   ]
  },
  {
   "cell_type": "markdown",
   "metadata": {},
   "source": [
    "### Holt's Linear Trend Model\n",
    "- Asumpiton there's a linear treand with time "
   ]
  },
  {
   "cell_type": "markdown",
   "metadata": {},
   "source": [
    "$Trend(t+h) = EWMA(Trend of time series from 1...t)$\\\n",
    "$ Level(t+h) = EWMA(Time series from 1...t) + (Noise)$ "
   ]
  },
  {
   "cell_type": "markdown",
   "metadata": {},
   "source": [
    "$Y = mX + C$ \n",
    "- $m$ = Trend\n",
    "- $c$ = Level\n",
    "- $x$ = no. of steps in forcast"
   ]
  },
  {
   "cell_type": "markdown",
   "metadata": {},
   "source": [
    "### Holt-Winters Model\n",
    "- Level(t+h) = EWMA(Level of time series from 1...t)\n",
    "- Trend(t+h) = EWMA(Trend of time series from 1...t)\n",
    "- Seasonal(t+h) = EWMA(Seasonal of time series from 1...t) Seasonal reptition"
   ]
  },
  {
   "cell_type": "markdown",
   "metadata": {},
   "source": [
    "### Different Ways to Combine\n",
    "- Output = Level + Trend + Seasonality\n",
    "- Output = Level x Trend x Seasonality\n",
    "- Output = (Level + Trend) x Seasonality\n",
    "- log(Output) = log(L) + log(T) + log(S)"
   ]
  },
  {
   "cell_type": "code",
   "execution_count": null,
   "metadata": {},
   "outputs": [],
   "source": [
    "# returns a Rolling object\n",
    "rolling_window = df [ 'GOOG'].rolling (window_size)\n",
    "# returns a series/dataframe rolling means\n",
    "# can also calculate min, max, sum, var, etc.\n",
    "rolling_window.mean()\n",
    "# multi-dimensional\n",
    "covariance = df [[ `GOOG', 'AAPL' ]].rolling (50).cov()"
   ]
  }
 ],
 "metadata": {
  "kernelspec": {
   "display_name": "Python 3",
   "language": "python",
   "name": "python3"
  },
  "language_info": {
   "name": "python",
   "version": "3.11.3"
  },
  "orig_nbformat": 4
 },
 "nbformat": 4,
 "nbformat_minor": 2
}
